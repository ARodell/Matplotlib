{
 "cells": [
  {
   "cell_type": "code",
   "execution_count": null,
   "metadata": {},
   "outputs": [],
   "source": [
    " # Dependencies and Setup\n",
    "%matplotlib inline\n",
    "import matplotlib.pyplot as plt\n",
    "import pandas as pd\n",
    "import numpy as np\n",
    "from scipy.stats import sem\n",
    "\n",
    "# Hide warning messages in notebook\n",
    "import warnings\n",
    "warnings.filterwarnings('ignore')\n",
    "\n",
    "# Read the Mouse and Drug Data and the Clinical Trial Data\n",
    "mouse_drug_data_to_load = pd.read_csv(\"mouse_drug_data.csv\")\n",
    "clinical_trial_data_to_load = pd.read_csv(\"clinicaltrial_data.csv\")\n",
    "\n",
    "\n",
    "# Combine the data into a single dataset\n",
    "data_complete = pd.merge(clinical_trial_data_to_load, mouse_drug_data_to_load, how=\"left\", on=[\"Mouse ID\", \"Mouse ID\"])\n",
    "\n",
    "\n",
    "# Display the data table for preview\n",
    "data_complete"
   ]
  },
  {
   "cell_type": "markdown",
   "metadata": {},
   "source": [
    "# Tumor Response to Treatment"
   ]
  },
  {
   "cell_type": "code",
   "execution_count": null,
   "metadata": {},
   "outputs": [],
   "source": [
    "# Store the Mean Tumor Volume Data Grouped by Drug and Timepoint \n",
    "#mean_tumor_volume = data_complete[\"Tumor Volume (mm3)\"].mean()\n",
    "data_tumorvolume = data_complete.groupby([\"Drug\",\"Timepoint\"]).mean()[\"Tumor Volume (mm3)\"]\n",
    "\n",
    "# Preview DataFrame\n",
    "data_tumorvolume"
   ]
  },
  {
   "cell_type": "code",
   "execution_count": null,
   "metadata": {},
   "outputs": [],
   "source": [
    "# Store the Standard Error of Tumor Volumes Grouped by Drug and Timepoint\n",
    "# Convert to DataFrame\n",
    "standard_error = data_complete.groupby([\"Drug\",\"Timepoint\"]).sem()[\"Tumor Volume (mm3)\"]\n",
    "\n",
    "# Preview DataFrame\n",
    "standard_error"
   ]
  },
  {
   "cell_type": "code",
   "execution_count": null,
   "metadata": {},
   "outputs": [],
   "source": [
    "# Generate the Plot (with Error Bars)\n",
    "fig, ax = plt.subplots()\n",
    "\n",
    "ax.errorbar(np.arange(0, len(data_tumorvolume)), data_tumorvolume, yerr=sem, fmt=\"o\", color=\"b\",alpha=0.5, label=\"Mean Tumor Volume\")\n",
    "\n",
    "ax.set_xlim(-0.5, len(data_tumorvolume))\n",
    "\n",
    "ax.set_xlabel(\"Mean Tumor Volume (mm3)\")\n",
    "ax.set_ylabel(\"Timepoint\")\n",
    "\n",
    "plt.legend(loc=\"best\", fontsize=\"small\", fancybox=True)\n",
    "\n",
    "# Save the Figure\n",
    "#plt.savefig(\"tumor_errorplot.png\")"
   ]
  },
  {
   "cell_type": "code",
   "execution_count": null,
   "metadata": {},
   "outputs": [],
   "source": [
    " # Show the Figure\n",
    "plt.show()"
   ]
  },
  {
   "cell_type": "markdown",
   "metadata": {},
   "source": [
    "# Metastatic Response to Treatment"
   ]
  },
  {
   "cell_type": "code",
   "execution_count": null,
   "metadata": {},
   "outputs": [],
   "source": [
    "# Store the Mean Met. Site Data Grouped by Drug and Timepoint\n",
    "# Convert to DataFrame\n",
    "mean_met_site = data_complete.groupby([\"Drug\",\"Timepoint\"]).mean()[\"Metastatic Sites\"]\n",
    "\n",
    "# Preview DataFrame\n",
    "mean_met_site"
   ]
  },
  {
   "cell_type": "code",
   "execution_count": null,
   "metadata": {},
   "outputs": [],
   "source": [
    "# Generate the Plot (with Error Bars)\n",
    "fig, ax = plt.subplots()\n",
    "\n",
    "ax.errorbar(np.arange(0, len(mean_met_site)), mean_met_site, yerr=sem, fmt=\"o\", color=\"b\",alpha=0.5, label=\"Mean Tumor Volume\")\n",
    "\n",
    "ax.set_xlim(-0.5, len(mean_met_site))\n",
    "\n",
    "ax.set_xlabel(\"Mean Metastatic Sites\")\n",
    "ax.set_ylabel(\"Timepoint\")\n",
    "\n",
    "plt.legend(loc=\"best\", fontsize=\"small\", fancybox=True)\n",
    "\n",
    "# Save the Figure\n",
    "plt.savefig(\"metastatic_errorplot.png\")"
   ]
  },
  {
   "cell_type": "code",
   "execution_count": null,
   "metadata": {},
   "outputs": [],
   "source": [
    "# Show the Figure\n",
    "plt.show()"
   ]
  },
  {
   "cell_type": "markdown",
   "metadata": {},
   "source": [
    "# Survival Rates"
   ]
  },
  {
   "cell_type": "code",
   "execution_count": null,
   "metadata": {},
   "outputs": [],
   "source": [
    "# Store the Count of Mice Grouped by Drug and Timepoint (W can pass any metric)\n",
    "# Convert to DataFrame\n",
    "mice_count = data_complete.groupby([\"Drug\",\"Timepoint\"]).count()[\"Mouse ID\"]\n",
    "\n",
    "# Preview DataFrame\n",
    "mice_count"
   ]
  },
  {
   "cell_type": "code",
   "execution_count": null,
   "metadata": {},
   "outputs": [],
   "source": [
    "# Generate the Plot (Accounting for percentages)\n",
    "time = \"Timepoint\"\n",
    "plt.scatter(mice_count, time, marker=\"o\", facecolors=\"blue\", edgecolors=\"black\") \n",
    "\n",
    "# Save the Figure\n",
    "plt.savefig(\"survivalrate_scatterplot.png\")"
   ]
  },
  {
   "cell_type": "code",
   "execution_count": null,
   "metadata": {},
   "outputs": [],
   "source": [
    "# Show the Figure\n",
    "plt.show()"
   ]
  },
  {
   "cell_type": "markdown",
   "metadata": {},
   "source": [
    "# Summary Bar Graph"
   ]
  },
  {
   "cell_type": "code",
   "execution_count": null,
   "metadata": {},
   "outputs": [],
   "source": [
    " # Calculate the percent changes for each drug\n",
    "\n",
    "# Display the data to confirm"
   ]
  },
  {
   "cell_type": "code",
   "execution_count": null,
   "metadata": {},
   "outputs": [],
   "source": [
    " # Store all Relevant Percent Changes into a Tuple\n",
    "\n",
    "\n",
    "# Splice the data between passing and failing drugs\n",
    "\n",
    "\n",
    "# Orient widths. Add labels, tick marks, etc. \n",
    "\n",
    "\n",
    "# Use functions to label the percentages of changes\n",
    "\n",
    "\n",
    "# Call functions to implement the function calls\n",
    "\n",
    "\n",
    "# Save the Figure\n",
    "\n",
    "\n",
    "# Show the Figure"
   ]
  }
 ],
 "metadata": {
  "kernelspec": {
   "display_name": "Python 3",
   "language": "python",
   "name": "python3"
  },
  "language_info": {
   "codemirror_mode": {
    "name": "ipython",
    "version": 3
   },
   "file_extension": ".py",
   "mimetype": "text/x-python",
   "name": "python",
   "nbconvert_exporter": "python",
   "pygments_lexer": "ipython3",
   "version": "3.6.5"
  }
 },
 "nbformat": 4,
 "nbformat_minor": 2
}
